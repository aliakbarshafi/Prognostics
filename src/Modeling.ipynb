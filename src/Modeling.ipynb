{
 "cells": [
  {
   "cell_type": "code",
   "execution_count": 42,
   "metadata": {},
   "outputs": [],
   "source": [
    "import pandas as pd\n",
    "import numpy as np\n",
    "import matplotlib.pyplot as plt\n",
    "from statsmodels.tsa.stattools import adfuller\n",
    "from statsmodels.tsa.stattools import kpss\n",
    "import pmdarima as pm\n",
    "from sklearn.neural_network import MLPClassifier\n",
    "from sklearn.preprocessing import StandardScaler"
   ]
  },
  {
   "cell_type": "code",
   "execution_count": 8,
   "metadata": {},
   "outputs": [],
   "source": [
    "finalData=pd.read_csv('C://Users//Ali//Documents//GitHub//PredictiveMaintenance//finalData.csv')\n",
    "testData = pd.read_csv('C://Users//Ali//Documents//GitHub//PredictiveMaintenance//Predictive-Maintainence-master//test.csv')"
   ]
  },
  {
   "cell_type": "code",
   "execution_count": 9,
   "metadata": {},
   "outputs": [
    {
     "data": {
      "text/html": [
       "<div>\n",
       "<style scoped>\n",
       "    .dataframe tbody tr th:only-of-type {\n",
       "        vertical-align: middle;\n",
       "    }\n",
       "\n",
       "    .dataframe tbody tr th {\n",
       "        vertical-align: top;\n",
       "    }\n",
       "\n",
       "    .dataframe thead th {\n",
       "        text-align: right;\n",
       "    }\n",
       "</style>\n",
       "<table border=\"1\" class=\"dataframe\">\n",
       "  <thead>\n",
       "    <tr style=\"text-align: right;\">\n",
       "      <th></th>\n",
       "      <th>Engine</th>\n",
       "      <th>HI</th>\n",
       "    </tr>\n",
       "  </thead>\n",
       "  <tbody>\n",
       "    <tr>\n",
       "      <th>13091</th>\n",
       "      <td>100</td>\n",
       "      <td>0.230244</td>\n",
       "    </tr>\n",
       "    <tr>\n",
       "      <th>13092</th>\n",
       "      <td>100</td>\n",
       "      <td>0.345110</td>\n",
       "    </tr>\n",
       "    <tr>\n",
       "      <th>13093</th>\n",
       "      <td>100</td>\n",
       "      <td>0.454384</td>\n",
       "    </tr>\n",
       "    <tr>\n",
       "      <th>13094</th>\n",
       "      <td>100</td>\n",
       "      <td>0.387432</td>\n",
       "    </tr>\n",
       "    <tr>\n",
       "      <th>13095</th>\n",
       "      <td>100</td>\n",
       "      <td>0.137107</td>\n",
       "    </tr>\n",
       "  </tbody>\n",
       "</table>\n",
       "</div>"
      ],
      "text/plain": [
       "       Engine        HI\n",
       "13091     100  0.230244\n",
       "13092     100  0.345110\n",
       "13093     100  0.454384\n",
       "13094     100  0.387432\n",
       "13095     100  0.137107"
      ]
     },
     "execution_count": 9,
     "metadata": {},
     "output_type": "execute_result"
    }
   ],
   "source": [
    "finalData.tail()"
   ]
  },
  {
   "cell_type": "code",
   "execution_count": 10,
   "metadata": {},
   "outputs": [],
   "source": [
    "grouped = finalData.groupby(['Engine'])\n",
    "l_grouped = list(grouped)"
   ]
  },
  {
   "cell_type": "code",
   "execution_count": 13,
   "metadata": {},
   "outputs": [],
   "source": [
    "timeSeriesList=[]\n",
    "for i in range(0,100):\n",
    "    timeSeriesList.append(l_grouped[i][1]['HI'].tolist())"
   ]
  },
  {
   "cell_type": "code",
   "execution_count": 14,
   "metadata": {},
   "outputs": [],
   "source": [
    "engines = [56,36,61,84,3,16,44,65,83]"
   ]
  },
  {
   "cell_type": "code",
   "execution_count": 15,
   "metadata": {},
   "outputs": [],
   "source": [
    "enginesTimeSeries=[]\n",
    "for i in range(len(engines)):\n",
    "    enginesTimeSeries.append(timeSeriesList[engines[i]-1])"
   ]
  },
  {
   "cell_type": "code",
   "execution_count": 16,
   "metadata": {},
   "outputs": [
    {
     "name": "stdout",
     "output_type": "stream",
     "text": [
      "Results of Dickey-Fuller Test:\n",
      "Test Statistic                   1.516651\n",
      "p-value                          0.997585\n",
      "#Lags Used                      10.000000\n",
      "Number of Observations Used    125.000000\n",
      "Critical Value (5%)             -2.884954\n",
      "dtype: float64\n",
      "Results of Dickey-Fuller Test:\n",
      "Test Statistic                   2.757354\n",
      "p-value                          1.000000\n",
      "#Lags Used                      13.000000\n",
      "Number of Observations Used    112.000000\n",
      "Critical Value (5%)             -2.887712\n",
      "dtype: float64\n",
      "Results of Dickey-Fuller Test:\n",
      "Test Statistic                   2.521010\n",
      "p-value                          0.999056\n",
      "#Lags Used                       9.000000\n",
      "Number of Observations Used    149.000000\n",
      "Critical Value (5%)             -2.881141\n",
      "dtype: float64\n",
      "Results of Dickey-Fuller Test:\n",
      "Test Statistic                   1.837898\n",
      "p-value                          0.998421\n",
      "#Lags Used                      13.000000\n",
      "Number of Observations Used    158.000000\n",
      "Critical Value (5%)             -2.880013\n",
      "dtype: float64\n",
      "Results of Dickey-Fuller Test:\n",
      "Test Statistic                   0.631849\n",
      "p-value                          0.988375\n",
      "#Lags Used                      11.000000\n",
      "Number of Observations Used    114.000000\n",
      "Critical Value (5%)             -2.887246\n",
      "dtype: float64\n",
      "Results of Dickey-Fuller Test:\n",
      "Test Statistic                  -1.591155\n",
      "p-value                          0.488035\n",
      "#Lags Used                       5.000000\n",
      "Number of Observations Used    107.000000\n",
      "Critical Value (5%)             -2.888955\n",
      "dtype: float64\n",
      "Results of Dickey-Fuller Test:\n",
      "Test Statistic                -6.083875e+00\n",
      "p-value                        1.075968e-07\n",
      "#Lags Used                     0.000000e+00\n",
      "Number of Observations Used    5.300000e+01\n",
      "Critical Value (5%)           -2.917850e+00\n",
      "dtype: float64\n",
      "Results of Dickey-Fuller Test:\n",
      "Test Statistic                -8.680564e+00\n",
      "p-value                        4.297456e-14\n",
      "#Lags Used                     0.000000e+00\n",
      "Number of Observations Used    7.000000e+01\n",
      "Critical Value (5%)           -2.903811e+00\n",
      "dtype: float64\n",
      "Results of Dickey-Fuller Test:\n",
      "Test Statistic                -8.206731e+00\n",
      "p-value                        6.992155e-13\n",
      "#Lags Used                     0.000000e+00\n",
      "Number of Observations Used    7.200000e+01\n",
      "Critical Value (5%)           -2.902607e+00\n",
      "dtype: float64\n"
     ]
    }
   ],
   "source": [
    "def adf_test(timeseries):\n",
    "    #Perform Dickey-Fuller test:\n",
    "    print ('Results of Dickey-Fuller Test:')\n",
    "    dftest = adfuller(timeseries, autolag='AIC')\n",
    "    dfoutput = pd.Series(dftest[0:4], index=['Test Statistic','p-value','#Lags Used','Number of Observations Used'])\n",
    "    dfoutput['Critical Value (5%)'] = dftest[4]['5%']\n",
    "    print (dfoutput)\n",
    "\n",
    "for i in range(len(engines)):\n",
    "    adf_test(enginesTimeSeries[i])"
   ]
  },
  {
   "cell_type": "code",
   "execution_count": 17,
   "metadata": {},
   "outputs": [
    {
     "name": "stdout",
     "output_type": "stream",
     "text": [
      "Results of KPSS Test:\n",
      "Test Statistic          0.967706\n",
      "p-value                 0.010000\n",
      "Lags Used              13.000000\n",
      "Critical Value (5%)     0.463000\n",
      "dtype: float64\n",
      "Results of KPSS Test:\n",
      "Test Statistic          0.921194\n",
      "p-value                 0.010000\n",
      "Lags Used              13.000000\n",
      "Critical Value (5%)     0.463000\n",
      "dtype: float64\n",
      "Results of KPSS Test:\n",
      "Test Statistic          1.070252\n",
      "p-value                 0.010000\n",
      "Lags Used              14.000000\n",
      "Critical Value (5%)     0.463000\n",
      "dtype: float64\n",
      "Results of KPSS Test:\n",
      "Test Statistic          1.117154\n",
      "p-value                 0.010000\n",
      "Lags Used              14.000000\n",
      "Critical Value (5%)     0.463000\n",
      "dtype: float64\n",
      "Results of KPSS Test:\n",
      "Test Statistic          0.90141\n",
      "p-value                 0.01000\n",
      "Lags Used              13.00000\n",
      "Critical Value (5%)     0.46300\n",
      "dtype: float64\n",
      "Results of KPSS Test:\n",
      "Test Statistic          0.803516\n",
      "p-value                 0.010000\n",
      "Lags Used              13.000000\n",
      "Critical Value (5%)     0.463000\n",
      "dtype: float64\n",
      "Results of KPSS Test:\n",
      "Test Statistic          0.345693\n",
      "p-value                 0.100000\n",
      "Lags Used              11.000000\n",
      "Critical Value (5%)     0.463000\n",
      "dtype: float64\n",
      "Results of KPSS Test:\n",
      "Test Statistic          0.540746\n",
      "p-value                 0.032490\n",
      "Lags Used              12.000000\n",
      "Critical Value (5%)     0.463000\n",
      "dtype: float64\n",
      "Results of KPSS Test:\n",
      "Test Statistic          0.449838\n",
      "p-value                 0.055673\n",
      "Lags Used              12.000000\n",
      "Critical Value (5%)     0.463000\n",
      "dtype: float64\n"
     ]
    },
    {
     "name": "stderr",
     "output_type": "stream",
     "text": [
      "C:\\Users\\Ali\\Anaconda3\\lib\\site-packages\\statsmodels\\tsa\\stattools.py:1276: InterpolationWarning: p-value is smaller than the indicated p-value\n",
      "  warn(\"p-value is smaller than the indicated p-value\", InterpolationWarning)\n",
      "C:\\Users\\Ali\\Anaconda3\\lib\\site-packages\\statsmodels\\tsa\\stattools.py:1276: InterpolationWarning: p-value is smaller than the indicated p-value\n",
      "  warn(\"p-value is smaller than the indicated p-value\", InterpolationWarning)\n",
      "C:\\Users\\Ali\\Anaconda3\\lib\\site-packages\\statsmodels\\tsa\\stattools.py:1276: InterpolationWarning: p-value is smaller than the indicated p-value\n",
      "  warn(\"p-value is smaller than the indicated p-value\", InterpolationWarning)\n",
      "C:\\Users\\Ali\\Anaconda3\\lib\\site-packages\\statsmodels\\tsa\\stattools.py:1276: InterpolationWarning: p-value is smaller than the indicated p-value\n",
      "  warn(\"p-value is smaller than the indicated p-value\", InterpolationWarning)\n",
      "C:\\Users\\Ali\\Anaconda3\\lib\\site-packages\\statsmodels\\tsa\\stattools.py:1276: InterpolationWarning: p-value is smaller than the indicated p-value\n",
      "  warn(\"p-value is smaller than the indicated p-value\", InterpolationWarning)\n",
      "C:\\Users\\Ali\\Anaconda3\\lib\\site-packages\\statsmodels\\tsa\\stattools.py:1276: InterpolationWarning: p-value is smaller than the indicated p-value\n",
      "  warn(\"p-value is smaller than the indicated p-value\", InterpolationWarning)\n",
      "C:\\Users\\Ali\\Anaconda3\\lib\\site-packages\\statsmodels\\tsa\\stattools.py:1278: InterpolationWarning: p-value is greater than the indicated p-value\n",
      "  warn(\"p-value is greater than the indicated p-value\", InterpolationWarning)\n"
     ]
    }
   ],
   "source": [
    "#define KPSS\n",
    "def kpss_test(timeseries):\n",
    "    print ('Results of KPSS Test:')\n",
    "    kpsstest = kpss(timeseries, regression='c')\n",
    "    kpss_output = pd.Series(kpsstest[0:3], index=['Test Statistic','p-value','Lags Used'])\n",
    "    kpss_output['Critical Value (5%)'] = kpsstest[3]['5%']\n",
    "    print (kpss_output)\n",
    "    \n",
    "for i in range(len(engines)):\n",
    "    kpss_test(enginesTimeSeries[i])"
   ]
  },
  {
   "cell_type": "code",
   "execution_count": 40,
   "metadata": {},
   "outputs": [],
   "source": [
    "def timeSeriesModel(TimeSeries):\n",
    "    model = pm.auto_arima(TimeSeries, trace=True, error_action='ignore', suppress_warnings=True)\n",
    "    RUL=1\n",
    "    for i in range(1,1000):\n",
    "        arima_forecast = model.predict(n_periods=i)\n",
    "        if (arima_forecast[i-1]<=0.0):\n",
    "            RUL=i\n",
    "            break\n",
    "    return RUL"
   ]
  },
  {
   "cell_type": "code",
   "execution_count": null,
   "metadata": {},
   "outputs": [],
   "source": [
    "RUL_Vector_timeSeries=map(timeSeriesModel,enginesTimeSeries)\n",
    "RUL_Vector_timeSeries=list(RUL_Vector) "
   ]
  }
 ],
 "metadata": {
  "kernelspec": {
   "display_name": "Python 3",
   "language": "python",
   "name": "python3"
  },
  "language_info": {
   "codemirror_mode": {
    "name": "ipython",
    "version": 3
   },
   "file_extension": ".py",
   "mimetype": "text/x-python",
   "name": "python",
   "nbconvert_exporter": "python",
   "pygments_lexer": "ipython3",
   "version": "3.6.5"
  }
 },
 "nbformat": 4,
 "nbformat_minor": 2
}
